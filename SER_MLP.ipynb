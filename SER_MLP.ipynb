{
  "nbformat": 4,
  "nbformat_minor": 0,
  "metadata": {
    "colab": {
      "name": "SER_MLP.ipynb",
      "provenance": [],
      "collapsed_sections": [],
      "include_colab_link": true
    },
    "kernelspec": {
      "name": "python3",
      "display_name": "Python 3"
    }
  },
  "cells": [
    {
      "cell_type": "markdown",
      "metadata": {
        "id": "view-in-github",
        "colab_type": "text"
      },
      "source": [
        "<a href=\"https://colab.research.google.com/github/Shalini1515/MyProjects/blob/main/SER_MLP.ipynb\" target=\"_parent\"><img src=\"https://colab.research.google.com/assets/colab-badge.svg\" alt=\"Open In Colab\"/></a>"
      ]
    },
    {
      "cell_type": "markdown",
      "metadata": {
        "id": "SKNo9RTBj1hA"
      },
      "source": [
        "#Speech Emotion Recognition with MLP Classifier\n",
        "\n"
      ]
    },
    {
      "cell_type": "markdown",
      "metadata": {
        "id": "AztUA74EerMQ"
      },
      "source": [
        "#Dataset\n",
        "The Ryerson Audio-Visual Database of Emotional Speech and Song (RAVDESS) \n",
        "\n",
        "---\n",
        "Audio-only files\n",
        "\n",
        "Audio-only files of all actors (01-24) are available as two separate zip files (~200 MB each):\n",
        "\n",
        "Speech file (Audio_Speech_Actors_01-24.zip, 215 MB) contains 1440 files: 60 trials per actor x 24 actors = 1440. \n",
        "Song file (Audio_Song_Actors_01-24.zip, 198 MB) contains 1012 files: 44 trials per actor x 23 actors = 1012.\n",
        "\n",
        "Total=2452\n",
        "\n",
        "---\n",
        "\n"
      ]
    },
    {
      "cell_type": "markdown",
      "metadata": {
        "id": "ix0uuwXsXIQ6"
      },
      "source": [
        "# Mount google drive\n",
        "\n"
      ]
    },
    {
      "cell_type": "code",
      "metadata": {
        "id": "tjUtB3Elrudq"
      },
      "source": [
        "from google.colab import drive\n",
        "drive.mount('/content/drive/')"
      ],
      "execution_count": null,
      "outputs": []
    },
    {
      "cell_type": "markdown",
      "metadata": {
        "id": "nrH14Ttlo2EL"
      },
      "source": [
        "# Install following libraries"
      ]
    },
    {
      "cell_type": "code",
      "metadata": {
        "id": "spdyH1iXo5lB"
      },
      "source": [
        "!pip install librosa soundfile numpy sklearn pyaudio"
      ],
      "execution_count": null,
      "outputs": []
    },
    {
      "cell_type": "code",
      "metadata": {
        "id": "JdmYeo1-fXtz",
        "colab": {
          "base_uri": "https://localhost:8080/",
          "height": 70
        },
        "outputId": "b5202521-fdac-438a-8596-8bd2fe312e47"
      },
      "source": [
        "!pip install soundfile"
      ],
      "execution_count": null,
      "outputs": [
        {
          "output_type": "stream",
          "text": [
            "Requirement already satisfied: soundfile in /usr/local/lib/python3.6/dist-packages (0.10.3.post1)\n",
            "Requirement already satisfied: cffi>=1.0 in /usr/local/lib/python3.6/dist-packages (from soundfile) (1.14.0)\n",
            "Requirement already satisfied: pycparser in /usr/local/lib/python3.6/dist-packages (from cffi>=1.0->soundfile) (2.20)\n"
          ],
          "name": "stdout"
        }
      ]
    },
    {
      "cell_type": "markdown",
      "metadata": {
        "id": "tqlY-_LUpD3l"
      },
      "source": [
        "# Make the necessary imports"
      ]
    },
    {
      "cell_type": "code",
      "metadata": {
        "id": "3fyYSbcJjy7i"
      },
      "source": [
        "import librosa\n",
        "import soundfile\n",
        "import os, glob, pickle\n",
        "import numpy as np\n",
        "from sklearn.model_selection import train_test_split\n",
        "from sklearn.neural_network import MLPClassifier\n",
        "from sklearn.metrics import accuracy_score"
      ],
      "execution_count": null,
      "outputs": []
    },
    {
      "cell_type": "markdown",
      "metadata": {
        "id": "6QufSKr1ksJc"
      },
      "source": [
        "Define a function extract_feature to extract the mfcc, chroma, and mel features from a sound file. This function takes 4 parameters- the file name and three Boolean parameters for the three features:\n",
        "\n",
        "* mfcc: Mel Frequency Cepstral Coefficient, represents the short-term power spectrum of a sound\n",
        "* chroma: Pertains to the 12 different pitch classes\n",
        "* mel: Mel Spectrogram Frequency"
      ]
    },
    {
      "cell_type": "code",
      "metadata": {
        "id": "dwB6D_vLpOoR"
      },
      "source": [
        "def extract_feature(file_name, mfcc, chroma, mel):\n",
        "    X, sample_rate = librosa.load(os.path.join(file_name), res_type='kaiser_fast')\n",
        "    if chroma:\n",
        "        stft=np.abs(librosa.stft(X))\n",
        "    result=np.array([])\n",
        "    if mfcc:\n",
        "        mfccs=np.mean(librosa.feature.mfcc(y=X, sr=sample_rate, n_mfcc=40).T, axis=0)\n",
        "        result=np.hstack((result, mfccs))\n",
        "    if chroma:\n",
        "        chroma=np.mean(librosa.feature.chroma_stft(S=stft, sr=sample_rate).T,axis=0)\n",
        "        result=np.hstack((result, chroma))\n",
        "    if mel:\n",
        "        mel=np.mean(librosa.feature.melspectrogram(X, sr=sample_rate).T,axis=0)\n",
        "        result=np.hstack((result, mel))\n",
        "    return result"
      ],
      "execution_count": null,
      "outputs": []
    },
    {
      "cell_type": "markdown",
      "metadata": {
        "id": "6xKzPyVcjvyT"
      },
      "source": [
        "Now, let’s define a dictionary to hold numbers and the emotions available in the RAVDESS & TESS dataset, and a list to hold all 8 emotions- neutral,calm,happy,sad,angry,fearful,disgust,surprised."
      ]
    },
    {
      "cell_type": "code",
      "metadata": {
        "id": "EgwcKBQzpdgM"
      },
      "source": [
        "# Emotions in the RAVDESS & TESS dataset\n",
        "emotions={\n",
        "  '01':'neutral',\n",
        "  '02':'calm',\n",
        "  '03':'happy',\n",
        "  '04':'sad',\n",
        "  '05':'angry',\n",
        "  '06':'fearful',\n",
        "  '07':'disgust',\n",
        "  '08':'surprised'\n",
        "}\n",
        "# Emotions to observe\n",
        "observed_emotions=['neutral','calm','happy','sad','angry','fearful', 'disgust','surprised']"
      ],
      "execution_count": null,
      "outputs": []
    },
    {
      "cell_type": "markdown",
      "metadata": {
        "id": "2VjDiYuC3G-D"
      },
      "source": [
        "# Load the data and extract features for each sound file"
      ]
    },
    {
      "cell_type": "code",
      "metadata": {
        "id": "f2axyBFDqI1A"
      },
      "source": [
        "\n",
        "def load_data(test_size=0.2):\n",
        "    x,y=[],[]\n",
        "    for file in glob.glob('/content/drive/My Drive/content/Ravdess/Actor_*/*.wav'):\n",
        "        file_name=os.path.basename(file)\n",
        "        emotion=emotions[file_name.split(\"-\")[2]]\n",
        "        if emotion not in observed_emotions:\n",
        "            continue\n",
        "        feature=extract_feature(file, mfcc=True, chroma=True, mel=True)\n",
        "        x.append(feature)\n",
        "        y.append(emotion)\n",
        "    return train_test_split(np.array(x), y, test_size=test_size, train_size= 0.75,random_state=9)"
      ],
      "execution_count": null,
      "outputs": []
    },
    {
      "cell_type": "markdown",
      "metadata": {
        "id": "wKhGTlqpqOAr"
      },
      "source": [
        "# Split the Dataset\n",
        "Time to split the dataset into training and testing sets! Let’s keep the test set 25% of everything and use the load_data function for this."
      ]
    },
    {
      "cell_type": "code",
      "metadata": {
        "id": "a92bN5vAqRb2"
      },
      "source": [
        "# Split the dataset\n",
        "import time\n",
        "x_train,x_test,y_train,y_test=load_data(test_size=0.25)"
      ],
      "execution_count": null,
      "outputs": []
    },
    {
      "cell_type": "markdown",
      "metadata": {
        "id": "46eeiQbYqT7p"
      },
      "source": [
        "#Observe the shape of the training and testing datasets:"
      ]
    },
    {
      "cell_type": "code",
      "metadata": {
        "id": "_MXFh4lwqYaC",
        "colab": {
          "base_uri": "https://localhost:8080/",
          "height": 35
        },
        "outputId": "eb020e32-a754-4510-97b1-8aaddfba58de"
      },
      "source": [
        "#Get the shape of the training and testing datasets\n",
        "print((x_train.shape[0], x_test.shape[0]))"
      ],
      "execution_count": null,
      "outputs": [
        {
          "output_type": "stream",
          "text": [
            "(3939, 1313)\n"
          ],
          "name": "stdout"
        }
      ]
    },
    {
      "cell_type": "markdown",
      "metadata": {
        "id": "xmwRPZe7qey5"
      },
      "source": [
        "# Number of features extracted."
      ]
    },
    {
      "cell_type": "code",
      "metadata": {
        "id": "H3C6czeDqgxX",
        "colab": {
          "base_uri": "https://localhost:8080/",
          "height": 35
        },
        "outputId": "8625bb60-0a8b-4f66-9b50-88a536ea8b5e"
      },
      "source": [
        "# Get the number of features extracted\n",
        "print(f'Features extracted: {x_train.shape[1]}')"
      ],
      "execution_count": null,
      "outputs": [
        {
          "output_type": "stream",
          "text": [
            "Features extracted: 180\n"
          ],
          "name": "stdout"
        }
      ]
    },
    {
      "cell_type": "markdown",
      "metadata": {
        "id": "YEvGnx7r3W7f"
      },
      "source": [
        "# MLP Classifier"
      ]
    },
    {
      "cell_type": "code",
      "metadata": {
        "id": "pvggD94ZqmAY"
      },
      "source": [
        "# Initialize the Multi Layer Perceptron Classifier\n",
        "model=MLPClassifier(alpha=0.01, batch_size=256, epsilon=1e-08, hidden_layer_sizes=(300,), learning_rate='adaptive', max_iter=500)"
      ],
      "execution_count": null,
      "outputs": []
    },
    {
      "cell_type": "markdown",
      "metadata": {
        "id": "cG4YLLXGqpAb"
      },
      "source": [
        "#Fit/train the model."
      ]
    },
    {
      "cell_type": "code",
      "metadata": {
        "id": "9OfJEVsDqrbY",
        "colab": {
          "base_uri": "https://localhost:8080/",
          "height": 159
        },
        "outputId": "b488b813-c7c9-475e-e527-9428af91ae5c"
      },
      "source": [
        "# Train the model\n",
        "model.fit(x_train,y_train)"
      ],
      "execution_count": null,
      "outputs": [
        {
          "output_type": "execute_result",
          "data": {
            "text/plain": [
              "MLPClassifier(activation='relu', alpha=0.01, batch_size=256, beta_1=0.9,\n",
              "              beta_2=0.999, early_stopping=False, epsilon=1e-08,\n",
              "              hidden_layer_sizes=(300,), learning_rate='adaptive',\n",
              "              learning_rate_init=0.001, max_fun=15000, max_iter=500,\n",
              "              momentum=0.9, n_iter_no_change=10, nesterovs_momentum=True,\n",
              "              power_t=0.5, random_state=None, shuffle=True, solver='adam',\n",
              "              tol=0.0001, validation_fraction=0.1, verbose=False,\n",
              "              warm_start=False)"
            ]
          },
          "metadata": {
            "tags": []
          },
          "execution_count": 13
        }
      ]
    },
    {
      "cell_type": "markdown",
      "metadata": {
        "id": "iDC7AkAt21EF"
      },
      "source": [
        "# Predict the accuracy of our model"
      ]
    },
    {
      "cell_type": "markdown",
      "metadata": {
        "id": "D2Kzw2Emqt1p"
      },
      "source": [
        "Let’s predict the values for the test set. This gives us y_pred (the predicted emotions for the features in the test set)."
      ]
    },
    {
      "cell_type": "code",
      "metadata": {
        "id": "YNVNDVnBqw1z"
      },
      "source": [
        "# Predict for the test set\n",
        "y_pred=model.predict(x_test)"
      ],
      "execution_count": null,
      "outputs": []
    },
    {
      "cell_type": "markdown",
      "metadata": {
        "id": "njU6Gs6jqzkg"
      },
      "source": [
        "To calculate the accuracy of our model, we’ll call up the accuracy_score() function we imported from sklearn. Finally, we’ll round the accuracy to 2 decimal places and print it out."
      ]
    },
    {
      "cell_type": "code",
      "metadata": {
        "id": "_sDEv4K1q1VA",
        "colab": {
          "base_uri": "https://localhost:8080/",
          "height": 35
        },
        "outputId": "b701c4ab-54b0-4173-ebe5-da659c5dd44a"
      },
      "source": [
        "# Calculate the accuracy of our model\n",
        "accuracy=accuracy_score(y_true=y_test, y_pred=y_pred)\n",
        "# Print the accuracy\n",
        "print(\"Accuracy: 2f}%{:.\".format(accuracy*100))"
      ],
      "execution_count": null,
      "outputs": [
        {
          "output_type": "stream",
          "text": [
            "Accuracy: 83.32%\n"
          ],
          "name": "stdout"
        }
      ]
    },
    {
      "cell_type": "markdown",
      "metadata": {
        "id": "hGdh6fh02hFc"
      },
      "source": [
        "#classification Report"
      ]
    },
    {
      "cell_type": "code",
      "metadata": {
        "id": "2xreI8SSq6Rc",
        "colab": {
          "base_uri": "https://localhost:8080/",
          "height": 284
        },
        "outputId": "e7a791de-bbc6-47d7-fdbe-ab80a0f8e53d"
      },
      "source": [
        "from sklearn.metrics import classification_report\n",
        "print(classification_report(y_test,y_pred))\n"
      ],
      "execution_count": null,
      "outputs": [
        {
          "output_type": "stream",
          "text": [
            "              precision    recall  f1-score   support\n",
            "\n",
            "       angry       0.94      0.84      0.89       199\n",
            "        calm       0.72      0.72      0.72        86\n",
            "     disgust       0.87      0.82      0.84       142\n",
            "     fearful       0.86      0.83      0.85       176\n",
            "       happy       0.77      0.84      0.80       186\n",
            "     neutral       0.72      0.96      0.82       165\n",
            "         sad       0.89      0.80      0.85       199\n",
            "   surprised       0.89      0.79      0.84       160\n",
            "\n",
            "    accuracy                           0.83      1313\n",
            "   macro avg       0.83      0.83      0.83      1313\n",
            "weighted avg       0.84      0.83      0.83      1313\n",
            "\n"
          ],
          "name": "stdout"
        }
      ]
    },
    {
      "cell_type": "markdown",
      "metadata": {
        "id": "KZZZBmK32ksS"
      },
      "source": [
        "# Confusion Matrix"
      ]
    },
    {
      "cell_type": "code",
      "metadata": {
        "id": "Y2IEjtiTtl-f",
        "colab": {
          "base_uri": "https://localhost:8080/",
          "height": 159
        },
        "outputId": "f5c2e30f-b101-4728-9547-f68b4774cbdb"
      },
      "source": [
        "from sklearn.metrics import confusion_matrix\n",
        "matrix = confusion_matrix(y_test,y_pred)\n",
        "print (matrix)"
      ],
      "execution_count": null,
      "outputs": [
        {
          "output_type": "stream",
          "text": [
            "[[168   1   7  13   6   1   0   3]\n",
            " [  0  62   0   0   6  14   4   0]\n",
            " [  2   2 116   0   8   6   1   7]\n",
            " [  4   2   1 146   7   6   7   3]\n",
            " [  4   5   3   3 156  11   3   1]\n",
            " [  0   3   0   0   0 159   3   0]\n",
            " [  0  11   3   6   7  10 160   2]\n",
            " [  0   0   4   1  13  14   1 127]]\n"
          ],
          "name": "stdout"
        }
      ]
    }
  ]
}